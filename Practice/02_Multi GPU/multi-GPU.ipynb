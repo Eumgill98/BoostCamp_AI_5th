{
 "cells": [
  {
   "cell_type": "markdown",
   "id": "cb6bb795",
   "metadata": {},
   "source": [
    "# 멀티 - GPU 예제\n",
    "\n",
    "- **데이터 병렬처리** (Data Parallelism)는 Mini-batch를 여러 개의 더 작은 Mini-batch로 자르고 각각의 작은 미니배치를 병렬적으로 연산하는 것을 의미\n",
    "\n",
    "- 데이터 병렬처리는 `torch.nn.DataParallel`을 사용하여 구현할 수 있다\n",
    "- `DataParallel`로 감쌀 수 있는 모듈은 배치 차원(batch dimension)에서 여러 GPU로 병렬 처리할 수 있다"
   ]
  },
  {
   "cell_type": "markdown",
   "id": "96e7cf97",
   "metadata": {},
   "source": [
    "---\n",
    "\n",
    "## DataParallel"
   ]
  },
  {
   "cell_type": "code",
   "execution_count": 10,
   "id": "c24c7d02",
   "metadata": {},
   "outputs": [],
   "source": [
    "import torch\n",
    "import torch.nn as nn\n",
    "\n",
    "class DataParallelModel(nn.Module):\n",
    "    \n",
    "    def __init__(self):\n",
    "        super().__init__()\n",
    "        self.block1 = nn.Linear(10, 20)\n",
    "        \n",
    "        #wrap block2 in DataParallel\n",
    "        self.block2 = nn.Linear(20, 20)\n",
    "        self.block2 = nn.DataParallel(self.block2) #감싸준다\n",
    "        \n",
    "        self.block3 = nn.Linear(20, 20)\n",
    "        \n",
    "        \n",
    "    def forward(self, x):\n",
    "        x = self.block1(x)\n",
    "        x = self.block2(x)\n",
    "        x = self.block3(x)\n",
    "        return x"
   ]
  },
  {
   "cell_type": "markdown",
   "id": "99d3f530",
   "metadata": {},
   "source": [
    "## DataParallel이 구현된 기본형(primitive):\n",
    "\n",
    "- 일반적으로 Pytroch의 nn.parallel 기본형은 독립적으로 사용할 수 있다.\n",
    "- 간단한 MPI류의 기본형을 구현해보면 다음과 같다\n",
    "\n",
    "    - 복제 (replicate) : 여러기기에 모듈을 복제\n",
    "    - 분산 (scatter) : 첫번째 차원에서 입력을 분산\n",
    "    - 수집 (gather) : 첫번째 차원에서 입력을 수집하고 합친다\n",
    "    - 병렬적용(parallel_apply) : 이미 분산된 입력의 집합을 이미 분산된 모델의 집합에 적용한다"
   ]
  },
  {
   "cell_type": "code",
   "execution_count": 12,
   "id": "66cf6f2a",
   "metadata": {},
   "outputs": [],
   "source": [
    "def data_parallel(module, input, device_ids, output_device=None):\n",
    "    if not device_ids:\n",
    "        return module(input)\n",
    "\n",
    "    if output_device is None:\n",
    "        output_device = device_ids[0]\n",
    "\n",
    "    replicas = nn.parallel.replicate(module, device_ids)\n",
    "    inputs = nn.parallel.scatter(input, device_ids)\n",
    "    replicas = replicas[:len(inputs)]\n",
    "    outputs = nn.parallel.parallel_apply(replicas, inputs)\n",
    "    return nn.parallel.gather(outputs, output_device)"
   ]
  },
  {
   "cell_type": "markdown",
   "id": "393e2467",
   "metadata": {},
   "source": [
    "## 모델 일부는 CPU, 일부는 GPU에서 "
   ]
  },
  {
   "cell_type": "code",
   "execution_count": 11,
   "id": "bbb6c90a",
   "metadata": {},
   "outputs": [],
   "source": [
    "device = torch.device(\"cuda:0\")\n",
    "\n",
    "class DistributedModel(nn.Module):\n",
    "\n",
    "    def __init__(self):\n",
    "        super().__init__(\n",
    "            embedding=nn.Embedding(1000, 10),\n",
    "            rnn=nn.Linear(10, 10).to(device),\n",
    "        )\n",
    "\n",
    "    def forward(self, x):\n",
    "        # CPU에서 연산합니다.\n",
    "        x = self.embedding(x)\n",
    "\n",
    "        # GPU로 보냅니다.\n",
    "        x = x.to(device)\n",
    "\n",
    "        # GPU에서 연산합니다.\n",
    "        x = self.rnn(x)\n",
    "        return x"
   ]
  },
  {
   "cell_type": "markdown",
   "id": "f859f561",
   "metadata": {},
   "source": [
    "---\n",
    "\n",
    "# Refereence\n",
    "\n",
    "https://tutorials.pytorch.kr/beginner/former_torchies/parallelism_tutorial.html"
   ]
  }
 ],
 "metadata": {
  "kernelspec": {
   "display_name": "Python 3 (ipykernel)",
   "language": "python",
   "name": "python3"
  },
  "language_info": {
   "codemirror_mode": {
    "name": "ipython",
    "version": 3
   },
   "file_extension": ".py",
   "mimetype": "text/x-python",
   "name": "python",
   "nbconvert_exporter": "python",
   "pygments_lexer": "ipython3",
   "version": "3.7.4"
  }
 },
 "nbformat": 4,
 "nbformat_minor": 5
}
